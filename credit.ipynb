{
 "cells": [
  {
   "cell_type": "code",
   "execution_count": 4,
   "metadata": {},
   "outputs": [],
   "source": [
    "import numpy as np\n",
    "import numpy.linalg\n",
    "import scipy as sp\n",
    "import scipy.linalg"
   ]
  },
  {
   "cell_type": "code",
   "execution_count": 28,
   "metadata": {
    "collapsed": true
   },
   "outputs": [
    {
     "name": "stdout",
     "output_type": "stream",
     "text": [
      "[[ 3]\n",
      " [ 1]\n",
      " [-3]\n",
      " [ 6]]\n",
      "[[-3]\n",
      " [-2]\n",
      " [ 0]\n",
      " [-3]]\n",
      "[[ 8]\n",
      " [ 3]\n",
      " [-7]\n",
      " [15]]\n"
     ]
    }
   ],
   "source": [
    "#problem 1\n",
    "\n",
    "c = np.array([[1], [0], [-2], [3]])\n",
    "\n",
    "d = np.array([[2], [1], [-1], [3]])\n",
    "\n",
    "print(c+d)\n",
    "\n",
    "print(c-2*d)\n",
    "\n",
    "print(2*c + 3*d)\n",
    "    \n"
   ]
  },
  {
   "cell_type": "code",
   "execution_count": 30,
   "metadata": {
    "collapsed": true
   },
   "outputs": [
    {
     "name": "stdout",
     "output_type": "stream",
     "text": [
      "[[5]\n",
      " [8]]\n"
     ]
    }
   ],
   "source": [
    "#problem 2\n",
    "\n",
    "v = np.array([[3], [2]])\n",
    "\n",
    "b = np.array([[-1], [4]])\n",
    "\n",
    "print(2*v+b)"
   ]
  },
  {
   "cell_type": "code",
   "execution_count": 32,
   "metadata": {},
   "outputs": [],
   "source": [
    "#problem 3"
   ]
  },
  {
   "cell_type": "code",
   "execution_count": null,
   "metadata": {},
   "outputs": [],
   "source": [
    "#problem 4"
   ]
  },
  {
   "cell_type": "code",
   "execution_count": null,
   "metadata": {},
   "outputs": [],
   "source": [
    "#problem 5"
   ]
  },
  {
   "cell_type": "code",
   "execution_count": null,
   "metadata": {},
   "outputs": [],
   "source": [
    "#problem 6"
   ]
  },
  {
   "cell_type": "code",
   "execution_count": null,
   "metadata": {},
   "outputs": [],
   "source": [
    "#problem 7 "
   ]
  },
  {
   "cell_type": "code",
   "execution_count": 62,
   "metadata": {
    "scrolled": false
   },
   "outputs": [
    {
     "name": "stdout",
     "output_type": "stream",
     "text": [
      "13\n",
      "[[ 10 -11   4]]\n",
      "3.7416573867739413\n",
      "5.385164807134504\n"
     ]
    }
   ],
   "source": [
    "#problem 8\n",
    "\n",
    "a = np.array([[1], [2], [3]])\n",
    "\n",
    "b = np.array([[-2], [0], [5]])\n",
    "\n",
    "print(np.vdot(a,b))\n",
    "\n",
    "print(np.cross(a,b, axisa=0, axisb=0))\n",
    "\n",
    "print(np.linalg.norm(a))\n",
    "\n",
    "print(np.linalg.norm(b))"
   ]
  },
  {
   "cell_type": "code",
   "execution_count": 63,
   "metadata": {},
   "outputs": [
    {
     "name": "stdout",
     "output_type": "stream",
     "text": [
      "[1] x + [3] y + [-2] z= [-36]\n"
     ]
    }
   ],
   "source": [
    "#problem 9\n",
    "\n",
    "n = np.array([[1], [3], [-2]])\n",
    "\n",
    "p = np.array([[1], [2], [3]])\n",
    "\n"
   ]
  },
  {
   "cell_type": "code",
   "execution_count": null,
   "metadata": {},
   "outputs": [],
   "source": []
  },
  {
   "cell_type": "code",
   "execution_count": null,
   "metadata": {},
   "outputs": [],
   "source": [
    "#problem 10\n",
    "\n",
    "print(np.array())"
   ]
  },
  {
   "cell_type": "code",
   "execution_count": 59,
   "metadata": {
    "collapsed": true
   },
   "outputs": [
    {
     "name": "stdout",
     "output_type": "stream",
     "text": [
      "2.138089935299395\n"
     ]
    }
   ],
   "source": [
    "#problem 11\n",
    "\n",
    "n = np.array([[1], [2], [3]])\n",
    "\n",
    "p = np.array([[2], [3], [1]])\n",
    "\n",
    "n_magnitude = np.linalg.norm(n)\n",
    "\n",
    "dot = np.vdot(n,p)\n",
    "\n",
    "numerator = dot-3\n",
    "\n",
    "distance = numerator/n_magnitude\n",
    "\n",
    "print(distance)"
   ]
  },
  {
   "cell_type": "code",
   "execution_count": 84,
   "metadata": {
    "collapsed": true
   },
   "outputs": [
    {
     "name": "stdout",
     "output_type": "stream",
     "text": [
      "5.999999999999999\n",
      "-1\n"
     ]
    }
   ],
   "source": [
    "#problem 12\n",
    "\n",
    "a = np.array ([2,3,4])\n",
    "\n",
    "b = np.array([1,1,1])\n",
    "\n",
    "p = np.array([[3], [5], [7]])\n",
    "\n",
    "c = np.cross(a,b)\n",
    "\n",
    "A =c[0]\n",
    "\n",
    "denom = np.vdot(c,p)\n",
    "\n",
    "distance = 6**(1/2)\n",
    "\n",
    "D = ((np.linalg.norm(c))*distance) - denom\n",
    "\n",
    "print(D)\n",
    "\n",
    "print(A)\n"
   ]
  },
  {
   "cell_type": "code",
   "execution_count": 71,
   "metadata": {
    "collapsed": true
   },
   "outputs": [
    {
     "name": "stdout",
     "output_type": "stream",
     "text": [
      "[1. 2. 1.]\n"
     ]
    }
   ],
   "source": [
    "#problem 13 \n",
    "\n",
    "a = np.array([[2,1,1], [2,4,2], [3,3,3]])\n",
    "\n",
    "b = np.array([5,12,12])\n",
    "\n",
    "print(np.linalg.solve(a, b))"
   ]
  },
  {
   "cell_type": "code",
   "execution_count": 60,
   "metadata": {
    "collapsed": true
   },
   "outputs": [
    {
     "name": "stdout",
     "output_type": "stream",
     "text": [
      "[[13 21 21 19]\n",
      " [ 8 29 40 18]\n",
      " [ 1  7 12  8]]\n"
     ]
    }
   ],
   "source": [
    "#problem 14\n",
    "\n",
    "a = np.array([[1,3,5], [6,2,3], [2,1,0]])\n",
    "\n",
    "b = np.array([[0,3,5,1], [1,1,2,6], [2,3,2,0]])\n",
    "         \n",
    "print(np.matmul(a,b))"
   ]
  },
  {
   "cell_type": "code",
   "execution_count": 12,
   "metadata": {
    "collapsed": true
   },
   "outputs": [
    {
     "name": "stdout",
     "output_type": "stream",
     "text": [
      "[Matrix([\n",
      "[ 1],\n",
      "[-2],\n",
      "[ 1],\n",
      "[ 0]]), Matrix([\n",
      "[ 2],\n",
      "[-3],\n",
      "[ 0],\n",
      "[ 1]])]\n"
     ]
    }
   ],
   "source": [
    "#problem 15 \n",
    "\n",
    "A = [[1,1,1,1], [1,2,3,4], [4,3,2,1]]\n",
    "\n",
    "A = Matrix(A)\n",
    "\n",
    "A * A.nullspace()[0]\n",
    "\n",
    "print(A.nullspace())"
   ]
  },
  {
   "cell_type": "code",
   "execution_count": 33,
   "metadata": {
    "collapsed": true
   },
   "outputs": [
    {
     "name": "stdout",
     "output_type": "stream",
     "text": [
      "[[ 2.77555756e-17 -0.00000000e+00  5.00000000e-01]\n",
      " [ 3.75000000e-01 -1.25000000e-01  5.00000000e-01]\n",
      " [-6.25000000e-01 -1.25000000e-01 -1.50000000e+00]]\n"
     ]
    }
   ],
   "source": [
    "#problem 16\n",
    "\n",
    "a = np.matrix([[-4,1,-1], [-4,-5,-3], [2,0,0]])\n",
    "\n",
    "print(np.linalg.inv(a))"
   ]
  },
  {
   "cell_type": "code",
   "execution_count": 37,
   "metadata": {
    "collapsed": true
   },
   "outputs": [
    {
     "name": "stdout",
     "output_type": "stream",
     "text": [
      "[[ 1.]\n",
      " [-1.]]\n"
     ]
    }
   ],
   "source": [
    "#problem 17\n",
    "\n",
    "a = np.matrix([[-1,2], [4, -10]])\n",
    "\n",
    "b = np.matrix([[-3], [14]])\n",
    "\n",
    "print(np.linalg.solve(a,b))"
   ]
  },
  {
   "cell_type": "code",
   "execution_count": 32,
   "metadata": {
    "collapsed": true
   },
   "outputs": [
    {
     "name": "stdout",
     "output_type": "stream",
     "text": [
      "[[2.]\n",
      " [3.]]\n"
     ]
    }
   ],
   "source": [
    "#problem 18\n",
    "\n",
    "a = np.matrix([[4,2], [-6,6]])\n",
    "\n",
    "b = np.matrix([[14], [6]])\n",
    "\n",
    "c = np.linalg.solve(a,b)\n",
    "\n",
    "print(c)\n"
   ]
  },
  {
   "cell_type": "code",
   "execution_count": 26,
   "metadata": {
    "collapsed": true
   },
   "outputs": [
    {
     "name": "stdout",
     "output_type": "stream",
     "text": [
      "(array([ 1., 14.]), array([[-0.9701425 , -0.31622777],\n",
      "       [ 0.24253563, -0.9486833 ]]))\n"
     ]
    }
   ],
   "source": [
    "#problem 19\n",
    "\n",
    "a = ([[2,4], [3,13]])\n",
    "\n",
    "print(np.linalg.eig(a))"
   ]
  },
  {
   "cell_type": "code",
   "execution_count": null,
   "metadata": {},
   "outputs": [],
   "source": []
  }
 ],
 "metadata": {
  "kernelspec": {
   "display_name": "Python 3",
   "language": "python",
   "name": "python3"
  },
  "language_info": {
   "codemirror_mode": {
    "name": "ipython",
    "version": 3
   },
   "file_extension": ".py",
   "mimetype": "text/x-python",
   "name": "python",
   "nbconvert_exporter": "python",
   "pygments_lexer": "ipython3",
   "version": "3.7.0"
  }
 },
 "nbformat": 4,
 "nbformat_minor": 2
}
